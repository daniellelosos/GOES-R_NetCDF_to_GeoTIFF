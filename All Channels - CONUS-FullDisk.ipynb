{
 "cells": [
  {
   "cell_type": "code",
   "execution_count": 1,
   "metadata": {},
   "outputs": [],
   "source": [
    "from osgeo import gdal\n",
    "import numpy as np\n",
    "import s3fs\n",
    "import os\n",
    "import os.path\n",
    "import netCDF4"
   ]
  },
  {
   "cell_type": "code",
   "execution_count": 2,
   "metadata": {},
   "outputs": [],
   "source": [
    "# Adjust the variable inputs to create the prefix for the file of interest\n",
    "bucket_name = 'noaa-goes16' # Change to 'noaa-goes17' for GOES-17 satellite\n",
    "product_name = 'ABI-L1b-RadC' # Choose an ABI product: ABI-L1b-RadF, ABI-L1b-RadC, ABI-L2-CMIPF, or ABI-L2-CMIPC\n",
    "year = 2020 \n",
    "day_of_year = 296 \n",
    "hour = 16\n",
    "\n",
    "# Adjust pathname to local directory\n",
    "directory = \"/Users/daniellelosos/\""
   ]
  },
  {
   "cell_type": "code",
   "execution_count": 3,
   "metadata": {},
   "outputs": [],
   "source": [
    "# Make new directories to store files\n",
    "if not os.path.isdir(product_name +\"_netCDFs\"):\n",
    "    os.mkdir(product_name +\"_netCDFs\")\n",
    "if not os.path.isdir(product_name +\"_GeoTIFFs\"):\n",
    "    os.mkdir(product_name +\"_GeoTIFFs\") "
   ]
  },
  {
   "cell_type": "code",
   "execution_count": 4,
   "metadata": {},
   "outputs": [
    {
     "name": "stdout",
     "output_type": "stream",
     "text": [
      "noaa-goes16/ABI-L1b-RadC/2020/296/16/\n"
     ]
    }
   ],
   "source": [
    "# Enable GDAL/OGR exceptions\n",
    "gdal.UseExceptions()\n",
    "\n",
    "# Use anonymous credentials to access public data  from AWS\n",
    "fs = s3fs.S3FileSystem(anon=True)\n",
    "\n",
    "# Write prefix for the files of interest, and list all files beginning with this prefix.\n",
    "prefix = f'{bucket_name}/{product_name}/{year}/{day_of_year:03.0f}/{hour:02.0f}/'\n",
    "print(prefix)\n",
    "files = fs.ls(prefix)"
   ]
  },
  {
   "cell_type": "code",
   "execution_count": 5,
   "metadata": {},
   "outputs": [],
   "source": [
    "# Function converts netCDF files to GeoTIFF\n",
    "\n",
    "def convert(): \n",
    "    file_list = []\n",
    "    # Add only ABI Channel i files to the file list\n",
    "    for file in files:\n",
    "        name = str(file)\n",
    "        if channel in name:\n",
    "            file_list.append(file)\n",
    "    # Select the first file in the list (closest to the top of the hour) and download\n",
    "    # When scanning in Mode 6, ABI produces 6 Full Disk images and 12 CONUS images every hour\n",
    "    first_file = file_list[0]\n",
    "    path = directory + product_name + \"_netCDFs/\" + first_file.split(\"/\")[-1]\n",
    "    fs.download(first_file, path)\n",
    "    # Read metadata of ABI Channel 01 netCDF file\n",
    "    if i == 1:\n",
    "        dataset = gdal.Open(path, gdal.GA_ReadOnly)\n",
    "        print (\"DATASET:\\n\" + first_file)\n",
    "        print (\"\\nSUBDATASETS:\")\n",
    "        subdatasets = dataset.GetSubDatasets()\n",
    "        for fname, name in subdatasets:\n",
    "            print (name)\n",
    "            print (fname)\n",
    "        f = netCDF4.Dataset(path)\n",
    "        global var\n",
    "        # Choose the first variable/subdataset in the netCDF file to convert to a GeoTIFF. \n",
    "        var = list(f.variables.keys())[0] \n",
    "        print (\"\\nSelected variable: \" + var)\n",
    "        print (\"\\nConversion progress:\")\n",
    "    layer = gdal.Open(\"NETCDF:{0}:{1}\".format(path, var))\n",
    "    tiff_name = product_name + \"_\" + channel + \"_\" + var + \".tif\"\n",
    "    geotiff_pathname = os.path.join(directory + product_name +\"_GeoTiffs\", tiff_name)\n",
    "    # Make the conversion from a netCDF to a GeoTIFF, and store new files in a new folder\n",
    "    geotiff = gdal.Translate(geotiff_pathname, layer, format = \"NetCDF\")\n",
    "    print(tiff_name + \" has been generated\")\n",
    "    "
   ]
  },
  {
   "cell_type": "code",
   "execution_count": 6,
   "metadata": {},
   "outputs": [
    {
     "name": "stdout",
     "output_type": "stream",
     "text": [
      "DATASET:\n",
      "noaa-goes16/ABI-L1b-RadC/2020/296/16/OR_ABI-L1b-RadC-M6C01_G16_s20202961601166_e20202961603539_c20202961603598.nc\n",
      "\n",
      "SUBDATASETS:\n",
      "[3000x5000] toa_outgoing_radiance_per_unit_wavelength (16-bit integer)\n",
      "NETCDF:\"/Users/daniellelosos/ABI-L1b-RadC_netCDFs/OR_ABI-L1b-RadC-M6C01_G16_s20202961601166_e20202961603539_c20202961603598.nc\":Rad\n",
      "[3000x5000] status_flag (8-bit integer)\n",
      "NETCDF:\"/Users/daniellelosos/ABI-L1b-RadC_netCDFs/OR_ABI-L1b-RadC-M6C01_G16_s20202961601166_e20202961603539_c20202961603598.nc\":DQF\n",
      "\n",
      "Selected variable: Rad\n",
      "\n",
      "Conversion progress:\n",
      "ABI-L1b-RadC_C01_Rad.tif has been generated\n",
      "ABI-L1b-RadC_C02_Rad.tif has been generated\n",
      "ABI-L1b-RadC_C03_Rad.tif has been generated\n",
      "ABI-L1b-RadC_C04_Rad.tif has been generated\n",
      "ABI-L1b-RadC_C05_Rad.tif has been generated\n",
      "ABI-L1b-RadC_C06_Rad.tif has been generated\n",
      "ABI-L1b-RadC_C07_Rad.tif has been generated\n",
      "ABI-L1b-RadC_C08_Rad.tif has been generated\n",
      "ABI-L1b-RadC_C09_Rad.tif has been generated\n",
      "ABI-L1b-RadC_C10_Rad.tif has been generated\n",
      "ABI-L1b-RadC_C11_Rad.tif has been generated\n",
      "ABI-L1b-RadC_C12_Rad.tif has been generated\n",
      "ABI-L1b-RadC_C13_Rad.tif has been generated\n",
      "ABI-L1b-RadC_C14_Rad.tif has been generated\n",
      "ABI-L1b-RadC_C15_Rad.tif has been generated\n",
      "ABI-L1b-RadC_C16_Rad.tif has been generated\n",
      "\n",
      "ABI-L1b-RadC netCDF files have been converted to GeoTiffs for all 16 ABI channels\n"
     ]
    }
   ],
   "source": [
    "# Loop through the sixteen ABI channels.\n",
    "# For each channel, run the convert function (which creates a GeoTIFF of the first image produced at the given hour)\n",
    "for i in range(1,17):\n",
    "    if i < 10:\n",
    "        number = str(i)\n",
    "        channel = \"C0\"+ number\n",
    "        convert()\n",
    "    if i >= 10:\n",
    "        number = str(i)\n",
    "        channel = \"C\"+ number\n",
    "        convert()\n",
    "else:\n",
    "    print(\"\\n\" + product_name + \" netCDF files have been converted to GeoTiffs for all 16 ABI channels\")"
   ]
  },
  {
   "cell_type": "code",
   "execution_count": null,
   "metadata": {},
   "outputs": [],
   "source": []
  }
 ],
 "metadata": {
  "kernelspec": {
   "display_name": "opencv",
   "language": "python",
   "name": "opencv"
  },
  "language_info": {
   "codemirror_mode": {
    "name": "ipython",
    "version": 3
   },
   "file_extension": ".py",
   "mimetype": "text/x-python",
   "name": "python",
   "nbconvert_exporter": "python",
   "pygments_lexer": "ipython3",
   "version": "3.7.7"
  }
 },
 "nbformat": 4,
 "nbformat_minor": 4
}

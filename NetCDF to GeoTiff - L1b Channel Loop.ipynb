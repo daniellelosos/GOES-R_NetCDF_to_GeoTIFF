{
 "cells": [
  {
   "cell_type": "code",
   "execution_count": 1,
   "metadata": {},
   "outputs": [],
   "source": [
    "from osgeo import gdal\n",
    "import numpy as np\n",
    "import s3fs\n",
    "import os\n",
    "import os.path\n",
    "import netCDF4"
   ]
  },
  {
   "cell_type": "code",
   "execution_count": 2,
   "metadata": {},
   "outputs": [],
   "source": [
    "# Adjust the variable inputs to create the prefix for the file of interest\n",
    "bucket_name = 'noaa-goes16' # Change to 'noaa-goes17' for GOES-17 satellite\n",
    "product_name = 'ABI-L1b-RadM' # Choose an ABI L1b product: ABI-L1b-RadF, ABI-L1b-RadC, or ABI-L1b-RadM \n",
    "year = 2020 \n",
    "day_of_year = 338 \n",
    "hour = 16\n",
    "mesoscale = \"M1\" # Change to \"M2\" for Mesoscale Domain Sector 2\n",
    "\n",
    "# Adjust pathname to local directory\n",
    "directory = \"/Users/daniellelosos/GOESforGIS/\""
   ]
  },
  {
   "cell_type": "code",
   "execution_count": 3,
   "metadata": {},
   "outputs": [],
   "source": [
    "# Make new directories to store files\n",
    "if not os.path.isdir(directory + product_name +\"_netCDFs\"):\n",
    "    os.mkdir(directory + product_name +\"_netCDFs\")\n",
    "if not os.path.isdir(directory + product_name +\"_GeoTiffs\"):\n",
    "    os.mkdir(directory + product_name +\"_GeoTiffs\") "
   ]
  },
  {
   "cell_type": "code",
   "execution_count": 4,
   "metadata": {},
   "outputs": [
    {
     "name": "stdout",
     "output_type": "stream",
     "text": [
      "noaa-goes16/ABI-L1b-RadM/2020/338/16/\n"
     ]
    }
   ],
   "source": [
    "# Enable GDAL/OGR exceptions\n",
    "gdal.UseExceptions()\n",
    "\n",
    "# Use anonymous credentials to access public data  from AWS\n",
    "fs = s3fs.S3FileSystem(anon=True)\n",
    "\n",
    "# Write prefix for the files of interest, and list all files beginning with this prefix.\n",
    "prefix = f'{bucket_name}/{product_name}/{year}/{day_of_year:03.0f}/{hour:02.0f}/'\n",
    "print(prefix)\n",
    "files = fs.ls(prefix)"
   ]
  },
  {
   "cell_type": "code",
   "execution_count": 5,
   "metadata": {},
   "outputs": [],
   "source": [
    "# Function converts netCDF files to GeoTiffs\n",
    "\n",
    "def convert(): \n",
    "    file_list = []\n",
    "    # Append files to list--if Mesoscale product was selected\n",
    "    if product_name == 'ABI-L1b-RadM':\n",
    "        # Add only Mesoscale 1 (or 2) ABI Channel i files to the file list\n",
    "        for file in files:\n",
    "            name = str(file)\n",
    "            if mesoscale in name:\n",
    "                if channel in name:\n",
    "                    file_list.append(file)\n",
    "    # Append files to list--if CONUS of Full Disk product was selected\n",
    "    else:\n",
    "        # Add only ABI Channel i files to the file list\n",
    "        for file in files:\n",
    "            name = str(file)\n",
    "            if channel in name:\n",
    "                file_list.append(file)\n",
    "    # Select the first file in the list (closest to the top of the hour) and download\n",
    "    # When scanning in Mode 6, ABI produces 6 Full Disk, 12 CONUS, and 60 Mesoscale 1 and 2 images every hour\n",
    "    first_file = file_list[0]\n",
    "    path = directory + product_name + \"_netCDFs/\" + first_file.split(\"/\")[-1]\n",
    "    fs.download(first_file, path)\n",
    "    # Read metadata of ABI Channel 01 netCDF file\n",
    "    if i == 1:\n",
    "        dataset = gdal.Open(path, gdal.GA_ReadOnly)\n",
    "        print (\"DATASET:\\n\" + first_file)\n",
    "        f = netCDF4.Dataset(path)\n",
    "        global var\n",
    "        # Choose the first variable/subdataset in the netCDF file to convert to a GeoTiff. \n",
    "        var = list(f.variables.keys())[0] \n",
    "        print (\"\\nSelected variable: \" + var)\n",
    "        print (\"\\nConversion in progress...\")\n",
    "    layer = gdal.Open(\"NETCDF:{0}:{1}\".format(path, var))\n",
    "    tiff_name = product_name + \"_\" + channel + \"_\" + var + \".tif\"\n",
    "    geotiff_pathname = os.path.join(directory + product_name +\"_GeoTiffs\", tiff_name)\n",
    "    # Make the conversion from a netCDF to a GeoTiff, and store new files in a new folder\n",
    "    geotiff = gdal.Translate(geotiff_pathname, layer, format = \"NetCDF\")\n",
    "    print(tiff_name + \" has been generated\")\n",
    "    "
   ]
  },
  {
   "cell_type": "code",
   "execution_count": 6,
   "metadata": {},
   "outputs": [
    {
     "name": "stdout",
     "output_type": "stream",
     "text": [
      "DATASET:\n",
      "noaa-goes16/ABI-L1b-RadM/2020/338/16/OR_ABI-L1b-RadM1-M6C01_G16_s20203381600209_e20203381600266_c20203381600322.nc\n",
      "\n",
      "Selected variable: Rad\n",
      "\n",
      "Conversion in progress...\n",
      "ABI-L1b-RadM_C01_Rad.tif has been generated\n",
      "ABI-L1b-RadM_C02_Rad.tif has been generated\n",
      "ABI-L1b-RadM_C03_Rad.tif has been generated\n",
      "ABI-L1b-RadM_C04_Rad.tif has been generated\n",
      "ABI-L1b-RadM_C05_Rad.tif has been generated\n",
      "ABI-L1b-RadM_C06_Rad.tif has been generated\n",
      "ABI-L1b-RadM_C07_Rad.tif has been generated\n",
      "ABI-L1b-RadM_C08_Rad.tif has been generated\n",
      "ABI-L1b-RadM_C09_Rad.tif has been generated\n",
      "ABI-L1b-RadM_C10_Rad.tif has been generated\n",
      "ABI-L1b-RadM_C11_Rad.tif has been generated\n",
      "ABI-L1b-RadM_C12_Rad.tif has been generated\n",
      "ABI-L1b-RadM_C13_Rad.tif has been generated\n",
      "ABI-L1b-RadM_C14_Rad.tif has been generated\n",
      "ABI-L1b-RadM_C15_Rad.tif has been generated\n",
      "ABI-L1b-RadM_C16_Rad.tif has been generated\n",
      "\n",
      "ABI-L1b-RadM netCDF files have been converted to GeoTiffs for all 16 ABI channels\n"
     ]
    }
   ],
   "source": [
    "# Loop through the sixteen ABI channels.\n",
    "# For each channel, run the convert function (which creates a GeoTiff of the first image produced at the given hour)\n",
    "for i in range(1,17):\n",
    "    if i < 10:\n",
    "        number = str(i)\n",
    "        channel = \"C0\"+ number\n",
    "        convert()\n",
    "    if i >= 10:\n",
    "        number = str(i)\n",
    "        channel = \"C\"+ number\n",
    "        convert()\n",
    "else:\n",
    "    print(\"\\n\" + product_name + \" netCDF files have been converted to GeoTiffs for all 16 ABI channels\")"
   ]
  },
  {
   "cell_type": "code",
   "execution_count": null,
   "metadata": {},
   "outputs": [],
   "source": []
  }
 ],
 "metadata": {
  "kernelspec": {
   "display_name": "nov2020",
   "language": "python",
   "name": "nov2020"
  },
  "language_info": {
   "codemirror_mode": {
    "name": "ipython",
    "version": 3
   },
   "file_extension": ".py",
   "mimetype": "text/x-python",
   "name": "python",
   "nbconvert_exporter": "python",
   "pygments_lexer": "ipython3",
   "version": "3.7.7"
  }
 },
 "nbformat": 4,
 "nbformat_minor": 4
}
